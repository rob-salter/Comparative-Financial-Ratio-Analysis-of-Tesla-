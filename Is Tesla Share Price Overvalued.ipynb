{
 "cells": [
  {
   "cell_type": "markdown",
   "metadata": {},
   "source": [
    "# Are Tesla's Shares Overpriced\n",
    "\n",
    "On 1st May 2020 Elon Musk tweeted that \"Tesla stock price is too high imo.\" Whilst Elon Musk is known for is controversial tweets, let's look at Tesla's share price using popular metrics to find out if he is correct.\n",
    "\n",
    "Whilst the aim of this project is to answer the above question. We are using this to develop the following skills:\n",
    "\n",
    "- Web scraping\n",
    "- Accessing data via an API\n",
    "- Data visualisation with Plotly \n"
   ]
  },
  {
   "cell_type": "code",
   "execution_count": 1,
   "metadata": {},
   "outputs": [],
   "source": [
    "import datetime as dt\n",
    "import numpy as np\n",
    "import pandas as pd"
   ]
  },
  {
   "cell_type": "markdown",
   "metadata": {},
   "source": [
    "## How Will We Determine If Telsas Stock Price Is Overvalued\n",
    "\n",
    "We're going to use ratios from investopedias article on determining over or undervalued stocks found here:\n",
    "\n",
    "https://www.investopedia.com/articles/investing/101316/how-tell-if-stock-overvalued-or-undervalued.asp\n",
    "\n",
    "The Ratios we are interested in are:\n",
    "\n",
    "- P/E, P/B, and EV/EBITDA Ratios \n",
    "- Price-to-Sales ratio (P/S)\n",
    "- Price-to-Dividend (P/D)\n",
    "- Enterprise Value-to-Sales (EV/S) Ratio \n",
    "- Price/Earnings to Growth (PEG) Ratio\n",
    "\n",
    "We will first start by accessing the data using the financial modeling prep api which can be found here:\n",
    "\n",
    "https://financialmodelingprep.com/developer/docs/#Company-Financial-Ratios\n",
    "\n",
    "\n"
   ]
  },
  {
   "cell_type": "code",
   "execution_count": 2,
   "metadata": {},
   "outputs": [],
   "source": [
    "import json\n",
    "\n",
    "def financialratios(quote):\n",
    "    fr = requests.get(f\"https://financialmodelingprep.com/api/v3/financial-ratios/{quote}\")\n",
    "    fr = fr.json()\n",
    "    #Get data from api and using a for loop get the ratios for our selected areas and assigning them to a value.\n",
    "    frames = []\n",
    "    areas = [\"valuation\", \"profitability\", \"operating\", \"liquidity\", \"debt\"]\n",
    "    fin_ratios = [\"investmentValuationRatios\", \"profitabilityIndicatorRatios\", \"operatingPerformanceRatios\", \"liquidityMeasurementRatios\", \"debtRatios\"]\n",
    "    \n",
    "    for area, ratio in zip(areas, fin_ratios):\n",
    "        area = fr['ratios'][0][ratio]\n",
    "        area = pd.DataFrame(list(area.items()),columns=['Ratio', quote])\n",
    "        frames.append(area)\n",
    "    \n",
    "    df = pd.concat(frames)\n",
    "    \n",
    "    our_ratios = [\"priceEarningsRatio\", \"priceToBookRatio\", \"enterpriseValueMultiple\", \"priceToSalesRatio\", \"dividendYield\", \"priceEarningsToGrowthRatio\"]\n",
    "\n",
    "    df = df.loc[df['Ratio'].isin(our_ratios)]\n",
    "    return df\n",
    "    \n",
    "#test = financialratios('TSLA')  \n",
    "#test\n"
   ]
  },
  {
   "cell_type": "code",
   "execution_count": 3,
   "metadata": {},
   "outputs": [],
   "source": [
    "# comp_stocks = tickers_adj\n",
    "\n",
    "def comparison_ratios(target_stock, comp_stocks):\n",
    "    \n",
    "    x = financialratios(target_stock)\n",
    "    \n",
    "    for stock in comp_stocks:\n",
    "        try:\n",
    "            y = financialratios(stock)\n",
    "            x = x.merge(y, on='Ratio')\n",
    "            \n",
    "        # Can't get data for x stocks so added in an error handling try except block to get around this.    \n",
    "        except KeyError: \n",
    "            print(\"KeyError, cannot get data for\", stock) \n",
    "    \n",
    "    return x\n",
    "\n",
    "# comparison_ratios('TSLA', comp_stocks)"
   ]
  },
  {
   "cell_type": "markdown",
   "metadata": {},
   "source": [
    "## Scraping The S&P 500 Tickers"
   ]
  },
  {
   "cell_type": "code",
   "execution_count": 4,
   "metadata": {},
   "outputs": [
    {
     "ename": "NameError",
     "evalue": "name 'requests' is not defined",
     "output_type": "error",
     "traceback": [
      "\u001b[0;31m---------------------------------------------------------------------------\u001b[0m",
      "\u001b[0;31mNameError\u001b[0m                                 Traceback (most recent call last)",
      "\u001b[0;32m<ipython-input-4-27141bcf6b1a>\u001b[0m in \u001b[0;36m<module>\u001b[0;34m\u001b[0m\n\u001b[1;32m     18\u001b[0m     \u001b[0;32mreturn\u001b[0m \u001b[0mstocks_comp\u001b[0m\u001b[0;34m,\u001b[0m \u001b[0mstocks_sector\u001b[0m\u001b[0;34m\u001b[0m\u001b[0;34m\u001b[0m\u001b[0m\n\u001b[1;32m     19\u001b[0m \u001b[0;34m\u001b[0m\u001b[0m\n\u001b[0;32m---> 20\u001b[0;31m \u001b[0mstocks_func\u001b[0m \u001b[0;34m=\u001b[0m \u001b[0msave_sp500_tickers\u001b[0m\u001b[0;34m(\u001b[0m\u001b[0;34m)\u001b[0m\u001b[0;34m\u001b[0m\u001b[0;34m\u001b[0m\u001b[0m\n\u001b[0m\u001b[1;32m     21\u001b[0m \u001b[0mstocks_comp\u001b[0m \u001b[0;34m=\u001b[0m \u001b[0mstocks_func\u001b[0m\u001b[0;34m[\u001b[0m\u001b[0;36m0\u001b[0m\u001b[0;34m]\u001b[0m\u001b[0;34m\u001b[0m\u001b[0;34m\u001b[0m\u001b[0m\n\u001b[1;32m     22\u001b[0m \u001b[0mstocks_sector\u001b[0m \u001b[0;34m=\u001b[0m \u001b[0mstocks_func\u001b[0m\u001b[0;34m[\u001b[0m\u001b[0;36m1\u001b[0m\u001b[0;34m]\u001b[0m\u001b[0;34m\u001b[0m\u001b[0;34m\u001b[0m\u001b[0m\n",
      "\u001b[0;32m<ipython-input-4-27141bcf6b1a>\u001b[0m in \u001b[0;36msave_sp500_tickers\u001b[0;34m()\u001b[0m\n\u001b[1;32m      1\u001b[0m \u001b[0;32mdef\u001b[0m \u001b[0msave_sp500_tickers\u001b[0m\u001b[0;34m(\u001b[0m\u001b[0;34m)\u001b[0m\u001b[0;34m:\u001b[0m\u001b[0;34m\u001b[0m\u001b[0;34m\u001b[0m\u001b[0m\n\u001b[0;32m----> 2\u001b[0;31m     \u001b[0mresp\u001b[0m \u001b[0;34m=\u001b[0m \u001b[0mrequests\u001b[0m\u001b[0;34m.\u001b[0m\u001b[0mget\u001b[0m\u001b[0;34m(\u001b[0m\u001b[0;34m'https://en.wikipedia.org/wiki/List_of_S%26P_500_companies'\u001b[0m\u001b[0;34m)\u001b[0m\u001b[0;34m\u001b[0m\u001b[0;34m\u001b[0m\u001b[0m\n\u001b[0m\u001b[1;32m      3\u001b[0m     \u001b[0msoup\u001b[0m \u001b[0;34m=\u001b[0m \u001b[0mbs\u001b[0m\u001b[0;34m.\u001b[0m\u001b[0mBeautifulSoup\u001b[0m\u001b[0;34m(\u001b[0m\u001b[0mresp\u001b[0m\u001b[0;34m.\u001b[0m\u001b[0mtext\u001b[0m\u001b[0;34m,\u001b[0m \u001b[0;34m\"lxml\"\u001b[0m\u001b[0;34m)\u001b[0m\u001b[0;34m\u001b[0m\u001b[0;34m\u001b[0m\u001b[0m\n\u001b[1;32m      4\u001b[0m     \u001b[0mtable\u001b[0m \u001b[0;34m=\u001b[0m \u001b[0msoup\u001b[0m\u001b[0;34m.\u001b[0m\u001b[0mfind\u001b[0m\u001b[0;34m(\u001b[0m\u001b[0;34m'table'\u001b[0m\u001b[0;34m,\u001b[0m \u001b[0;34m{\u001b[0m\u001b[0;34m'class'\u001b[0m\u001b[0;34m:\u001b[0m\u001b[0;34m'wikitable sortable'\u001b[0m\u001b[0;34m}\u001b[0m\u001b[0;34m)\u001b[0m\u001b[0;34m\u001b[0m\u001b[0;34m\u001b[0m\u001b[0m\n\u001b[1;32m      5\u001b[0m     \u001b[0mstocks_comp\u001b[0m \u001b[0;34m=\u001b[0m \u001b[0;34m{\u001b[0m\u001b[0;34m}\u001b[0m\u001b[0;34m\u001b[0m\u001b[0;34m\u001b[0m\u001b[0m\n",
      "\u001b[0;31mNameError\u001b[0m: name 'requests' is not defined"
     ]
    }
   ],
   "source": [
    "def save_sp500_tickers():\n",
    "    resp = requests.get('https://en.wikipedia.org/wiki/List_of_S%26P_500_companies')\n",
    "    soup = bs.BeautifulSoup(resp.text, \"lxml\")\n",
    "    table = soup.find('table', {'class':'wikitable sortable'})\n",
    "    stocks_comp = {}\n",
    "    stocks_sector = {}\n",
    "    \n",
    "    for row in table.findAll('tr')[1:]:\n",
    "        ticker = row.findAll('td')[0].text.replace('\\n','')\n",
    "        company = row.findAll('td')[1].text.replace('\\n','')\n",
    "        sector = row.findAll('td')[3].text.replace('\\n','')\n",
    "        if'.' in ticker:\n",
    "            ticker = ticker.replace('.','.')\n",
    "            print('ticker replaced to', ticker)\n",
    "        stocks_comp[ticker] = company\n",
    "        stocks_sector[ticker] = sector\n",
    "    \n",
    "    return stocks_comp, stocks_sector\n",
    "\n",
    "stocks_func = save_sp500_tickers()\n",
    "stocks_comp = stocks_func[0]\n",
    "stocks_sector = stocks_func[1]\n",
    "stocks_func"
   ]
  },
  {
   "cell_type": "code",
   "execution_count": null,
   "metadata": {},
   "outputs": [],
   "source": [
    "#Return a list of the tickers\n",
    "comp_stock_tickers = list(stocks_comp.keys())\n",
    "# comp_stock_tickers = comp_stock_tickers[:10]\n",
    "#Remove the first 10 stocks filter when time to run the full set\n",
    "# comp_stock_tickers"
   ]
  },
  {
   "cell_type": "markdown",
   "metadata": {},
   "source": [
    "## Running The Comparison Function"
   ]
  },
  {
   "cell_type": "code",
   "execution_count": null,
   "metadata": {},
   "outputs": [],
   "source": [
    "# df = comparison_ratios(\"TSLA\", comp_stock_tickers)\n",
    "# df\n",
    "\n",
    "df = comparison_ratios(\"TSLA\", comp_stock_tickers)\n"
   ]
  },
  {
   "cell_type": "markdown",
   "metadata": {},
   "source": [
    "We couldn't get data on all of the S&P 500 companies are are missing data for Carrier Global Corp (CARR), Howmet Aerospace Inc (HWM) and Otis Worldwide Corp (OTIS). Given that this is only 3 companies, we will continue with our dataset.\n",
    "\n",
    "\n",
    "## Cleaning Our Data\n",
    "\n"
   ]
  },
  {
   "cell_type": "code",
   "execution_count": null,
   "metadata": {},
   "outputs": [],
   "source": [
    "#Transpose the data\n",
    "\n",
    "df = df.set_index('Ratio').T.rename_axis(None,axis=1).reset_index()\n",
    "df.head()"
   ]
  },
  {
   "cell_type": "code",
   "execution_count": null,
   "metadata": {},
   "outputs": [],
   "source": [
    "df['company'] = df['index'].map(stocks_comp)\n",
    "df['sector'] = df['index'].map(stocks_sector)\n",
    "df.head()"
   ]
  },
  {
   "cell_type": "code",
   "execution_count": null,
   "metadata": {},
   "outputs": [],
   "source": [
    "#column headings\n",
    "\n",
    "col_headings=list(df.columns.values)\n",
    "col_headings"
   ]
  },
  {
   "cell_type": "code",
   "execution_count": null,
   "metadata": {},
   "outputs": [],
   "source": [
    "#change column names\n",
    "df.columns = ['ticker',\n",
    " 'price_to_book_ratio',\n",
    " 'price_to_sales_ratio',\n",
    " 'price_earnings_ratio',\n",
    " 'price_earnings_to_growth_ratio',\n",
    " 'dividend_yield',\n",
    " 'enterprise_value_multiple',\n",
    " 'company',\n",
    " 'sector']\n",
    "df.head()"
   ]
  },
  {
   "cell_type": "code",
   "execution_count": null,
   "metadata": {},
   "outputs": [],
   "source": [
    "#rearrange columns\n",
    "df = df[['ticker',\n",
    "         'company',\n",
    " 'sector',\n",
    " 'price_to_book_ratio',\n",
    " 'price_to_sales_ratio',\n",
    " 'price_earnings_ratio',\n",
    " 'price_earnings_to_growth_ratio',\n",
    " 'dividend_yield',\n",
    " 'enterprise_value_multiple']]\n",
    "\n",
    "df.head()"
   ]
  },
  {
   "cell_type": "code",
   "execution_count": null,
   "metadata": {
    "scrolled": true
   },
   "outputs": [],
   "source": [
    "#We could use fillna() but am going to use iloc instead for practice.\n",
    "#df['company'].fillna()\n",
    "\n",
    "df.iloc[0, df.columns.get_loc('company')] = \"Tesla\"\n",
    "df.iloc[0, df.columns.get_loc('sector')] = \"Consumer Discretionary\"\n",
    "df.head()"
   ]
  },
  {
   "cell_type": "markdown",
   "metadata": {},
   "source": [
    "## Save To CSV"
   ]
  },
  {
   "cell_type": "code",
   "execution_count": null,
   "metadata": {},
   "outputs": [],
   "source": [
    "df.to_csv('company_fin_ratios.csv')"
   ]
  },
  {
   "cell_type": "markdown",
   "metadata": {},
   "source": [
    "## Next Steps\n",
    "\n",
    "Data visualisation with Plotly."
   ]
  }
 ],
 "metadata": {
  "kernelspec": {
   "display_name": "Python 3",
   "language": "python",
   "name": "python3"
  }
 },
 "nbformat": 4,
 "nbformat_minor": 2
}
